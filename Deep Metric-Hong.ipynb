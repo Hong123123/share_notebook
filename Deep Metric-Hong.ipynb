{
 "cells": [
  {
   "cell_type": "markdown",
   "metadata": {},
   "source": [
    "# Deep Metric Learning via Lifted Structured Feature Embedding"
   ]
  },
  {
   "cell_type": "markdown",
   "metadata": {},
   "source": [
    "Consider the following problem:"
   ]
  },
  {
   "cell_type": "markdown",
   "metadata": {},
   "source": [
    "$min\\space J$"
   ]
  },
  {
   "cell_type": "markdown",
   "metadata": {},
   "source": [
    "$s.t.\\space J=\\frac{1}{2|\\tilde{P}|} \\sum\\limits^{}_{(i,j)\\in\\tilde{P}}{max(0,J_{i,j})^2} $"
   ]
  },
  {
   "cell_type": "markdown",
   "metadata": {},
   "source": [
    "$~~~~~~J_{i,j} = \\max( \\max\\limits_{(i,j)\\in\\tilde{N}}(\\alpha - D_{i,k}),  \\max\\limits_{(j,l)\\in\\tilde{N}}(\\alpha-D_{j,l}) ) +  D_{i,j}$"
   ]
  },
  {
   "cell_type": "markdown",
   "metadata": {},
   "source": [
    "$~~~~~~D_{i,j}=|| f(x_i)-f(x_j) ||^2_2$"
   ]
  },
  {
   "cell_type": "markdown",
   "metadata": {},
   "source": [
    "When it arrives at the optimal, each $J_{i,j}$ tends to be $<0$, and denotes the first term in $J_{i,j}$ as $P_1$, second as $P_2$"
   ]
  },
  {
   "cell_type": "markdown",
   "metadata": {},
   "source": [
    "Then $J_{i,j} \\leq0 \\Rightarrow P_1<0 \\wedge |P_1|<|P_2|$"
   ]
  },
  {
   "cell_type": "markdown",
   "metadata": {},
   "source": [
    "$(1) P_1<0$"
   ]
  },
  {
   "cell_type": "markdown",
   "metadata": {},
   "source": [
    "$\\Rightarrow \\max\\limits_{(i,j)\\in\\tilde{N}}(\\alpha - D_{i,k}) <0\\space  \\wedge  \\space \\max\\limits_{(j,l)\\in\\tilde{N}}(\\alpha-D_{j,l}) <0$"
   ]
  },
  {
   "cell_type": "markdown",
   "metadata": {},
   "source": [
    "$\\Leftrightarrow \\min\\limits_{(i,k)\\in\\tilde{N}}D_{i,k}>\\alpha  \\wedge  \\min\\limits_{(j,l)\\in\\tilde{N}}D_{i,k}>\\alpha,~~~\\forall{(i,j)\\in\\tilde{P}}$"
   ]
  },
  {
   "cell_type": "markdown",
   "metadata": {},
   "source": [
    "$(2) |P_1|<|P_2|$"
   ]
  },
  {
   "cell_type": "markdown",
   "metadata": {},
   "source": [
    "$\\Rightarrow \\min\\limits_{(i,j)\\in\\tilde{N}} D_{i,k} > D_{i,j} \\wedge \\min\\limits_{(i,l)\\in\\tilde{N}} D_{i,l} > D_{i,j},~~~\\forall(i,j)\\in\\tilde{P}$"
   ]
  },
  {
   "cell_type": "markdown",
   "metadata": {},
   "source": [
    "Above all, $\n",
    "J_{i,j}<0\n",
    "\\Rightarrow\n",
    "\\min\\limits_{(i,k)\\in\\tilde{N}} D_{i,k}  >  \\max(\\alpha, D_{i,j})  ~~~\\wedge~~~  \\min\\limits_{(j,l)\\in\\tilde{N}}D_{j,l}  > \\max(\\alpha, D_{i,j})  ,~~~\\forall(i,j)\\in\\tilde{P} $"
   ]
  }
 ],
 "metadata": {
  "kernelspec": {
   "display_name": "Python 3",
   "language": "python",
   "name": "python3"
  },
  "language_info": {
   "codemirror_mode": {
    "name": "ipython",
    "version": 3
   },
   "file_extension": ".py",
   "mimetype": "text/x-python",
   "name": "python",
   "nbconvert_exporter": "python",
   "pygments_lexer": "ipython3",
   "version": "3.7.0"
  }
 },
 "nbformat": 4,
 "nbformat_minor": 2
}
